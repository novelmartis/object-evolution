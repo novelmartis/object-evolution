{
 "cells": [
  {
   "cell_type": "markdown",
   "metadata": {},
   "source": [
    "Grayscale images and normalise their sizes"
   ]
  },
  {
   "cell_type": "code",
   "execution_count": 136,
   "metadata": {},
   "outputs": [
    {
     "name": "stdout",
     "output_type": "stream",
     "text": [
      "Populating the interactive namespace from numpy and matplotlib\n"
     ]
    }
   ],
   "source": [
    "import os\n",
    "input_dir = [file for file in os.listdir('pokemon-images') if file.endswith('.png')]\n",
    "import scipy.misc\n",
    "%pylab inline"
   ]
  },
  {
   "cell_type": "code",
   "execution_count": 137,
   "metadata": {},
   "outputs": [
    {
     "data": {
      "text/plain": [
       "150"
      ]
     },
     "execution_count": 137,
     "metadata": {},
     "output_type": "execute_result"
    }
   ],
   "source": [
    "len(input_dir)"
   ]
  },
  {
   "cell_type": "code",
   "execution_count": 138,
   "metadata": {},
   "outputs": [
    {
     "name": "stdout",
     "output_type": "stream",
     "text": [
      "640 640\n"
     ]
    }
   ],
   "source": [
    "x_max = 0\n",
    "y_max = 0\n",
    "for i in range(len(input_dir)):\n",
    "    img_in = scipy.misc.imread('pokemon-images/'+input_dir[i])\n",
    "    if np.shape(img_in)[0] > x_max:\n",
    "        x_max = np.shape(img_in)[0]\n",
    "    if np.shape(img_in)[1] > y_max:\n",
    "        y_max = np.shape(img_in)[1]\n",
    "print x_max,y_max\n",
    "size_max = max(x_max,y_max)"
   ]
  },
  {
   "cell_type": "code",
   "execution_count": 139,
   "metadata": {
    "collapsed": true
   },
   "outputs": [],
   "source": [
    "for i in range(len(input_dir)):\n",
    "    img_in = scipy.misc.imread('pokemon-images/'+input_dir[i],mode='L')\n",
    "    img_in1 = scipy.misc.imread('pokemon-images/'+input_dir[i])\n",
    "    img_in[img_in1[:,:,3]==0] = 255\n",
    "    max_h = np.shape(img_in)[0]\n",
    "    max_h_i = 0\n",
    "    if np.shape(img_in)[0] < np.shape(img_in)[1]:\n",
    "        max_h = np.shape(img_in)[1]\n",
    "        max_h_i = 1\n",
    "    img_in_t = scipy.misc.imresize(img_in,(size_max*1.)/(max_h*1.))\n",
    "    if max_h_i == 0:\n",
    "        diff_ind = size_max - np.shape(img_in_t)[1]\n",
    "        img_out = 255*np.ones([size_max,size_max])\n",
    "        img_out[:,diff_ind/2:diff_ind/2+np.shape(img_in_t)[1]] = img_in_t\n",
    "    else:\n",
    "        diff_ind = size_max - np.shape(img_in_t)[0]\n",
    "        img_out = 255*np.ones([size_max,size_max])\n",
    "        img_out[diff_ind/2:diff_ind/2+np.shape(img_in_t)[0],:] = img_in_t\n",
    "    str_h = 'pokemon-images-processed/'+input_dir[i]\n",
    "    scipy.misc.imsave(str_h,img_out)"
   ]
  },
  {
   "cell_type": "code",
   "execution_count": null,
   "metadata": {
    "collapsed": true
   },
   "outputs": [],
   "source": []
  }
 ],
 "metadata": {
  "kernelspec": {
   "display_name": "Python 2",
   "language": "python",
   "name": "python2"
  },
  "language_info": {
   "codemirror_mode": {
    "name": "ipython",
    "version": 2
   },
   "file_extension": ".py",
   "mimetype": "text/x-python",
   "name": "python",
   "nbconvert_exporter": "python",
   "pygments_lexer": "ipython2",
   "version": "2.7.13"
  }
 },
 "nbformat": 4,
 "nbformat_minor": 2
}
